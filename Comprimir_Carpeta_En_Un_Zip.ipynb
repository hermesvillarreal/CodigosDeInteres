{
  "nbformat": 4,
  "nbformat_minor": 0,
  "metadata": {
    "colab": {
      "provenance": [],
      "authorship_tag": "ABX9TyN7GcjeQcjnaEyZ4a2QfzuP",
      "include_colab_link": true
    },
    "kernelspec": {
      "name": "python3",
      "display_name": "Python 3"
    },
    "language_info": {
      "name": "python"
    }
  },
  "cells": [
    {
      "cell_type": "markdown",
      "metadata": {
        "id": "view-in-github",
        "colab_type": "text"
      },
      "source": [
        "<a href=\"https://colab.research.google.com/github/hermesvillarreal/CodigosDeInteres/blob/main/Comprimir_Carpeta_En_Un_Zip.ipynb\" target=\"_parent\"><img src=\"https://colab.research.google.com/assets/colab-badge.svg\" alt=\"Open In Colab\"/></a>"
      ]
    },
    {
      "cell_type": "markdown",
      "source": [
        "```\n",
        "Contexto:\n",
        "En la raíz donde se encuentra el archivo py, \n",
        "tengo una carpeta que requiero comprimir con todo su contenido\n",
        "```\n",
        "\n",
        "```\n",
        "Link de referencia:\n",
        "https://docs.python.org/es/3/library/os.html?highlight=#module-os\n",
        "https://docs.python.org/es/3/library/shutil.html\n",
        "```"
      ],
      "metadata": {
        "id": "s8EJ7TZ_GLqp"
      }
    },
    {
      "cell_type": "markdown",
      "source": [
        "importar las librerias:\n",
        "*   os # para las funciones de sistema operativo\n",
        "*   shutil # para la funcion de compresión de la carpeta"
      ],
      "metadata": {
        "id": "DTDcWy3-G-0D"
      }
    },
    {
      "cell_type": "code",
      "execution_count": 2,
      "metadata": {
        "id": "jZbzzxpdF1Ox"
      },
      "outputs": [],
      "source": [
        "import os\n",
        "import shutil"
      ]
    },
    {
      "cell_type": "markdown",
      "source": [
        "establecer las variables"
      ],
      "metadata": {
        "id": "LysOaNPsHbNe"
      }
    },
    {
      "cell_type": "code",
      "source": [
        "rootdir = os.getcwd()             # ruta absoluta donde se está ejecutando el .py y se encuentra el subdirectorio\n",
        "subdir = \"subdirectorio\"          # nombre del subdirectorio a comprimir\n",
        "filezip = rootdir + '/' + subdir  # ruta y nombre que se le dará al archivo comprimido\n",
        "format = \"zip\"                    # formato de compresión (pueden ser zip, tar, gztar, bztar, xztar)"
      ],
      "metadata": {
        "id": "43WrixqZHj5k"
      },
      "execution_count": 3,
      "outputs": []
    },
    {
      "cell_type": "markdown",
      "source": [
        "creación del archivo zip"
      ],
      "metadata": {
        "id": "7Q4QvDcnHn10"
      }
    },
    {
      "cell_type": "code",
      "source": [
        "shutil.make_archive(filezip, format, rootdir, subdir)"
      ],
      "metadata": {
        "id": "veU63otzHrQI"
      },
      "execution_count": null,
      "outputs": []
    }
  ]
}