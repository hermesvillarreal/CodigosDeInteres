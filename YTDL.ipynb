{
  "cells": [
    {
      "cell_type": "markdown",
      "metadata": {
        "colab_type": "text",
        "id": "view-in-github"
      },
      "source": [
        "<a href=\"https://colab.research.google.com/github/hermesvillarreal/CodigosDeInteres/blob/main/YTDL.ipynb\" target=\"_parent\"><img src=\"https://colab.research.google.com/assets/colab-badge.svg\" alt=\"Open In Colab\"/></a>"
      ]
    },
    {
      "cell_type": "markdown",
      "metadata": {
        "id": "N-HQcsykzQT5"
      },
      "source": [
        "# descargar audios de youtube\n",
        "\n",
        "link: \n",
        "```\n",
        "https://github.com/pytube/pytube\n",
        "https://pytube.io/en/latest/user/install.html\n",
        "```"
      ]
    },
    {
      "cell_type": "code",
      "execution_count": 7,
      "metadata": {
        "colab": {
          "base_uri": "https://localhost:8080/"
        },
        "id": "Ll2Ti_6wwM5T",
        "outputId": "dde483fb-6490-477b-9cde-506df265b3fc"
      },
      "outputs": [
        {
          "name": "stdout",
          "output_type": "stream",
          "text": [
            "Requirement already satisfied: pytube in c:\\users\\hvill\\anaconda3\\lib\\site-packages (12.1.0)\n"
          ]
        }
      ],
      "source": [
        "!pip install pytube"
      ]
    },
    {
      "cell_type": "markdown",
      "metadata": {
        "id": "hDVDUVHYy-Mn"
      },
      "source": [
        "importamos la libreria que utilizaremos"
      ]
    },
    {
      "cell_type": "code",
      "execution_count": 1,
      "metadata": {
        "id": "YglpwCiezhVT"
      },
      "outputs": [],
      "source": [
        "import pytube"
      ]
    },
    {
      "cell_type": "markdown",
      "metadata": {
        "id": "mWhrKmPTzloE"
      },
      "source": [
        "solicitamos al usuario el link de youtube"
      ]
    },
    {
      "cell_type": "code",
      "execution_count": 2,
      "metadata": {
        "colab": {
          "base_uri": "https://localhost:8080/"
        },
        "id": "EkdQOQU6zrKN",
        "outputId": "a3567308-fa0f-498e-e8c8-0aed55112804"
      },
      "outputs": [],
      "source": [
        "link = input('Enter Link Youtube: ')"
      ]
    },
    {
      "cell_type": "markdown",
      "metadata": {
        "id": "xjxx2pXEzwkk"
      },
      "source": [
        "ejecutamos el metodo que extrae los datos"
      ]
    },
    {
      "cell_type": "code",
      "execution_count": 3,
      "metadata": {
        "colab": {
          "base_uri": "https://localhost:8080/"
        },
        "id": "fvp788ke0DXv",
        "outputId": "b3404da7-d9ce-40fd-a062-8f738f50deea"
      },
      "outputs": [
        {
          "name": "stdout",
          "output_type": "stream",
          "text": [
            "Titulo: Super Trouper Video\n",
            "Autor: ABBA\n"
          ]
        }
      ],
      "source": [
        "youlink = pytube.YouTube(link)\n",
        "print(f'Titulo: {youlink.title}')\n",
        "print(f'Autor: {youlink.author}')"
      ]
    },
    {
      "cell_type": "markdown",
      "metadata": {
        "id": "P_IN3cXU0HfN"
      },
      "source": [
        "damos los parametros para salvar los datos en la computadora "
      ]
    },
    {
      "cell_type": "code",
      "execution_count": 4,
      "metadata": {
        "colab": {
          "base_uri": "https://localhost:8080/"
        },
        "id": "euhmpV3euJW9",
        "outputId": "525b84ea-17cd-4721-bf7a-ce90e2ceba4b"
      },
      "outputs": [
        {
          "data": {
            "text/plain": [
              "'c:\\\\Users\\\\hvill\\\\Documents\\\\GitHub\\\\CodigosDeInteres\\\\Super Trouper Video.mp3'"
            ]
          },
          "execution_count": 4,
          "metadata": {},
          "output_type": "execute_result"
        }
      ],
      "source": [
        "youlink.streams.filter(abr='160kbps',progressive=False).first().download(filename=f'{youlink.title}.mp3')"
      ]
    },
    {
      "cell_type": "markdown",
      "metadata": {
        "id": "Cy5ycNJ10Zj5"
      },
      "source": [
        "enviamos mensaje de descarga completada exitosamente"
      ]
    },
    {
      "cell_type": "code",
      "execution_count": 5,
      "metadata": {
        "colab": {
          "base_uri": "https://localhost:8080/"
        },
        "id": "O45YoFUw0ez8",
        "outputId": "f9ad862b-4a1a-4ad0-c6a3-8329b4d72e2e"
      },
      "outputs": [
        {
          "name": "stdout",
          "output_type": "stream",
          "text": [
            "Descarga con exito de: https://www.youtube.com/watch?v=BshxCIjNEjY\n"
          ]
        }
      ],
      "source": [
        "print(f'Descarga con exito de: {link}')"
      ]
    }
  ],
  "metadata": {
    "colab": {
      "authorship_tag": "ABX9TyNiPIdZp2mfYYjSBdHxpEkb",
      "include_colab_link": true,
      "provenance": []
    },
    "kernelspec": {
      "display_name": "Python 3",
      "name": "python3"
    },
    "language_info": {
      "codemirror_mode": {
        "name": "ipython",
        "version": 3
      },
      "file_extension": ".py",
      "mimetype": "text/x-python",
      "name": "python",
      "nbconvert_exporter": "python",
      "pygments_lexer": "ipython3",
      "version": "3.11.5"
    }
  },
  "nbformat": 4,
  "nbformat_minor": 0
}
