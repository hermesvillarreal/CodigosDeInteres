{
  "nbformat": 4,
  "nbformat_minor": 0,
  "metadata": {
    "colab": {
      "provenance": [],
      "authorship_tag": "ABX9TyNiPIdZp2mfYYjSBdHxpEkb",
      "include_colab_link": true
    },
    "kernelspec": {
      "name": "python3",
      "display_name": "Python 3"
    },
    "language_info": {
      "name": "python"
    }
  },
  "cells": [
    {
      "cell_type": "markdown",
      "metadata": {
        "id": "view-in-github",
        "colab_type": "text"
      },
      "source": [
        "<a href=\"https://colab.research.google.com/github/hermesvillarreal/CodigosDeInteres/blob/main/YTDL.ipynb\" target=\"_parent\"><img src=\"https://colab.research.google.com/assets/colab-badge.svg\" alt=\"Open In Colab\"/></a>"
      ]
    },
    {
      "cell_type": "markdown",
      "source": [
        "# descargar audios de youtube\n",
        "\n",
        "link: \n",
        "```\n",
        "https://github.com/pytube/pytube\n",
        "https://pytube.io/en/latest/user/install.html\n",
        "```"
      ],
      "metadata": {
        "id": "N-HQcsykzQT5"
      }
    },
    {
      "cell_type": "code",
      "source": [
        "!pip install pytube"
      ],
      "metadata": {
        "colab": {
          "base_uri": "https://localhost:8080/"
        },
        "id": "Ll2Ti_6wwM5T",
        "outputId": "dde483fb-6490-477b-9cde-506df265b3fc"
      },
      "execution_count": 7,
      "outputs": [
        {
          "output_type": "stream",
          "name": "stdout",
          "text": [
            "Requirement already satisfied: pytube in c:\\users\\hvill\\anaconda3\\lib\\site-packages (12.1.0)\n"
          ]
        }
      ]
    },
    {
      "cell_type": "markdown",
      "source": [
        "importamos la libreria que utilizaremos"
      ],
      "metadata": {
        "id": "hDVDUVHYy-Mn"
      }
    },
    {
      "cell_type": "code",
      "source": [
        "import pytube"
      ],
      "metadata": {
        "id": "YglpwCiezhVT"
      },
      "execution_count": 8,
      "outputs": []
    },
    {
      "cell_type": "markdown",
      "source": [
        "solicitamos al usuario el link de youtube"
      ],
      "metadata": {
        "id": "mWhrKmPTzloE"
      }
    },
    {
      "cell_type": "code",
      "source": [
        "link = input('Enter Link Youtube: ')"
      ],
      "metadata": {
        "colab": {
          "base_uri": "https://localhost:8080/"
        },
        "id": "EkdQOQU6zrKN",
        "outputId": "a3567308-fa0f-498e-e8c8-0aed55112804"
      },
      "execution_count": 9,
      "outputs": [
        {
          "name": "stdout",
          "output_type": "stream",
          "text": [
            "Enter Link Youtube: https://www.youtube.com/watch?v=BshxCIjNEjY\n"
          ]
        }
      ]
    },
    {
      "cell_type": "markdown",
      "source": [
        "ejecutamos el metodo que extrae los datos"
      ],
      "metadata": {
        "id": "xjxx2pXEzwkk"
      }
    },
    {
      "cell_type": "code",
      "source": [
        "youlink = pytube.YouTube(link)\n",
        "print(f'Titulo: {youlink.title}')\n",
        "print(f'Autor: {youlink.author}')"
      ],
      "metadata": {
        "colab": {
          "base_uri": "https://localhost:8080/"
        },
        "id": "fvp788ke0DXv",
        "outputId": "b3404da7-d9ce-40fd-a062-8f738f50deea"
      },
      "execution_count": 10,
      "outputs": [
        {
          "output_type": "stream",
          "name": "stdout",
          "text": [
            "Titulo: ABBA - Super Trouper\n",
            "Autor: AbbaVEVO\n"
          ]
        }
      ]
    },
    {
      "cell_type": "markdown",
      "source": [
        "damos los parametros para salvar los datos en la computadora "
      ],
      "metadata": {
        "id": "P_IN3cXU0HfN"
      }
    },
    {
      "cell_type": "code",
      "execution_count": 11,
      "metadata": {
        "colab": {
          "base_uri": "https://localhost:8080/"
        },
        "id": "euhmpV3euJW9",
        "outputId": "525b84ea-17cd-4721-bf7a-ce90e2ceba4b"
      },
      "outputs": [
        {
          "output_type": "execute_result",
          "data": {
            "text/plain": [
              "'C:\\\\Apps\\\\Jupiter\\\\ABBA - Super Trouper.mp3'"
            ]
          },
          "metadata": {},
          "execution_count": 11
        }
      ],
      "source": [
        "youlink.streams.filter(abr='160kbps',progressive=False).first().download(filename=f'{youlink.title}.mp3')"
      ]
    },
    {
      "cell_type": "markdown",
      "source": [
        "enviamos mensaje de descarga completada exitosamente"
      ],
      "metadata": {
        "id": "Cy5ycNJ10Zj5"
      }
    },
    {
      "cell_type": "code",
      "source": [
        "print(f'Descarga con exito de: {link}')"
      ],
      "metadata": {
        "colab": {
          "base_uri": "https://localhost:8080/"
        },
        "id": "O45YoFUw0ez8",
        "outputId": "f9ad862b-4a1a-4ad0-c6a3-8329b4d72e2e"
      },
      "execution_count": 12,
      "outputs": [
        {
          "output_type": "stream",
          "name": "stdout",
          "text": [
            "Descarga con exito de: https://www.youtube.com/watch?v=BshxCIjNEjY\n"
          ]
        }
      ]
    }
  ]
}