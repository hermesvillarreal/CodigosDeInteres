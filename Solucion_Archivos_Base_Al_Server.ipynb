{
  "nbformat": 4,
  "nbformat_minor": 0,
  "metadata": {
    "colab": {
      "provenance": [],
      "authorship_tag": "ABX9TyPw4fRO/1xTY2WVptla7a9S",
      "include_colab_link": true
    },
    "kernelspec": {
      "name": "python3",
      "display_name": "Python 3"
    },
    "language_info": {
      "name": "python"
    }
  },
  "cells": [
    {
      "cell_type": "markdown",
      "metadata": {
        "id": "view-in-github",
        "colab_type": "text"
      },
      "source": [
        "<a href=\"https://colab.research.google.com/github/hermesvillarreal/CodigosDeInteres/blob/main/Solucion_Archivos_Base_Al_Server.ipynb\" target=\"_parent\"><img src=\"https://colab.research.google.com/assets/colab-badge.svg\" alt=\"Open In Colab\"/></a>"
      ]
    },
    {
      "cell_type": "markdown",
      "source": [
        "```\n",
        "Contexto:\n",
        "Tengo una carpeta con archivos base csv a los cuales debo:\n",
        "* recibir por parametro 2 argumentos, 1 obligatorio y 1 opcional\n",
        "* modificar el nombre del archivo\n",
        "* revisar su contenido\n",
        "* si no existe la carpeta de salida, crearla\n",
        "* copiarlos a otra carpeta \n",
        "* comprimir en un zip la carpeta\n",
        "* enviar por sftp el zip a un servidor\n",
        "```\n",
        "```\n",
        "Links:\n",
        "https://docs.python.org/es/3/library/datetime.html\n",
        "https://docs.python.org/es/3/library/sys.html\n",
        "https://docs.python.org/es/3/library/os.html\n",
        "https://docs.python.org/es/3/library/shutil.html\n",
        "https://docs.python.org/es/3/library/subprocess.html\n",
        "https://docs.python.org/es/3/library/csv.html\n",
        "```"
      ],
      "metadata": {
        "id": "dLObd0ExSN9y"
      }
    },
    {
      "cell_type": "markdown",
      "source": [
        "importar las librerias a utilizar"
      ],
      "metadata": {
        "id": "Pg2_V0wPU2SP"
      }
    },
    {
      "cell_type": "code",
      "source": [
        "import datetime #Importar módulo de fecha y hora\n",
        "import sys\n",
        "import os\n",
        "import shutil\n",
        "from subprocess import check_output\n",
        "import csv"
      ],
      "metadata": {
        "id": "IevYCE6UU6ZW"
      },
      "execution_count": null,
      "outputs": []
    },
    {
      "cell_type": "markdown",
      "source": [
        "establecer variables y lectura de los parametros"
      ],
      "metadata": {
        "id": "SacmUSU0U98Q"
      }
    },
    {
      "cell_type": "code",
      "source": [
        "### establecer ruta y nombre de carpeta de salida\n",
        "rootdir = os.getcwd() \n",
        "\n",
        "today = datetime.date.today () #Obtener la fecha de hoy\n",
        "yesterday = today - datetime.timedelta(days=1) #Obtener la fecha de ayer\n",
        "tomorrow = today + datetime.timedelta(days=1) # Obtenga la fecha de mañana\n",
        "\n",
        "dateparam = sys.argv[1]\n",
        "print (dateparam)\n",
        "\n",
        "match dateparam:\n",
        "    case 'today':\n",
        "        datefilename = today.strftime(\"%Y%m%d\")\n",
        "    case 'yesterday':\n",
        "        datefilename = yesterday.strftime(\"%Y%m%d\")\n",
        "    case 'tomorrow':\n",
        "        datefilename = tomorrow.strftime(\"%Y%m%d\")\n",
        "    case 'day':\n",
        "        datefilename = sys.argv[2]\n",
        "    case _:\n",
        "        x = input ('Error en argumento. Se espera (today, yesterday, tomorrow, day (yyyymmdd))')\n",
        "        exit()\n",
        "\n",
        "FCT_DT_KEY = datefilename\n",
        "FCT_DT = \"\\\"\" + datefilename[4:6] + \"/\" + datefilename[6:8] + \"/\" + datefilename[0:4] + \"\\\"\"\n",
        "\n",
        "print (datefilename, FCT_DT)"
      ],
      "metadata": {
        "id": "eITPY1mDVELj"
      },
      "execution_count": null,
      "outputs": []
    },
    {
      "cell_type": "markdown",
      "source": [
        "crear subcarpeta de ser necesario "
      ],
      "metadata": {
        "id": "WWtj7pziVLLU"
      }
    },
    {
      "cell_type": "code",
      "source": [
        "inputdir = rootdir[0:-9] + 'InputFiles\\\\' + datefilename \n",
        "os.makedirs(inputdir, exist_ok=True)"
      ],
      "metadata": {
        "id": "RGsbCH9BVSf_"
      },
      "execution_count": null,
      "outputs": []
    },
    {
      "cell_type": "markdown",
      "source": [
        "tratamiento de los archivos csv en la carpeta base, \n",
        "* Si el archivo es nombrado con *CustomerGroup*.csv: se debe cambiar la columna FCT_DT_KEY y FCT_DT por la fecha incluida en el nombre de esta ejecución\n",
        "* Si el archivo es cualquier otro csv: se copia en el destino, cambiando su nombre\n",
        "* cualquier otro archivo es ignorado"
      ],
      "metadata": {
        "id": "BnxyXyuuVXJT"
      }
    },
    {
      "cell_type": "code",
      "source": [
        "with os.scandir(rootdir) as ficheros:\n",
        "    for fichero in ficheros:\n",
        "        if fichero.name[4:17] == 'CustomerGroup' and fichero.name[-4:] == '.csv':\n",
        "            with open(fichero.name) as csvfile:\n",
        "                encreader = csv.DictReader(csvfile, delimiter='|', quotechar='\"', quoting=csv.QUOTE_MINIMAL)\n",
        "                \n",
        "                for encrow in encreader:\n",
        "                    encabezado = encrow.keys()\n",
        "            \n",
        "            fields = list(encabezado)\n",
        "\n",
        "            with open(inputdir + '\\\\' + fichero.name[0:-12] + datefilename + '.csv', 'w', newline='') as outcsv:\n",
        "                writer = csv.writer(outcsv, delimiter='|', quotechar='\\'', quoting=csv.QUOTE_MINIMAL)\n",
        "                writer.writerow(fields)\n",
        "\n",
        "                with open(fichero.name) as incsv:\n",
        "                    reader = csv.DictReader(incsv, delimiter='|', quotechar='\\'', quoting=csv.QUOTE_MINIMAL)\n",
        "                    for row in reader:\n",
        "                        row['FCT_DT_KEY'] = FCT_DT_KEY\n",
        "                        row['FCT_DT'] = FCT_DT\n",
        "                        writer.writerow(list(row.values()))\n",
        "        if fichero.name[4:17] != 'CustomerGroup' and fichero.name[-4:] == '.csv': \n",
        "            shutil.copy(fichero.name, inputdir + '\\\\' + fichero.name[0:-12] + datefilename + '.csv')\n",
        "\n",
        "print ('Archivos copiados en: ' + inputdir)"
      ],
      "metadata": {
        "id": "MxYvIYe3WMQ1"
      },
      "execution_count": null,
      "outputs": []
    },
    {
      "cell_type": "markdown",
      "source": [
        "Se comprime la nueva carpeta"
      ],
      "metadata": {
        "id": "A1uSydW3WVeJ"
      }
    },
    {
      "cell_type": "code",
      "source": [
        "format = \"zip\"\n",
        "zipdir = rootdir[0:-9] + 'InputFiles'\n",
        "zipname = zipdir + '\\\\' + datefilename \n",
        "\n",
        "shutil.make_archive(zipname, format, zipdir, datefilename)\n",
        "\n",
        "print ('Zip creado: ' + zipname + '.' + format )"
      ],
      "metadata": {
        "id": "RhTiBUD4WccK"
      },
      "execution_count": null,
      "outputs": []
    },
    {
      "cell_type": "markdown",
      "source": [
        "Se envia el zip a la ruta del ftp"
      ],
      "metadata": {
        "id": "zUX-hpa8WhRY"
      }
    },
    {
      "cell_type": "markdown",
      "source": [
        "localremote.txt\n",
        "```\n",
        "open sftp://user_ftp:pass_ftp@ip_server_ftp/ -hostkey=\"ssh-ed25519 255 67FRBlf84TIT4Se8g=\"\n",
        "cd /planos\n",
        "option transfer binary\n",
        "put \"%1%\"\n",
        "close\n",
        "exit\n",
        "```"
      ],
      "metadata": {
        "id": "9ynyzw2hW_HP"
      }
    },
    {
      "cell_type": "code",
      "execution_count": null,
      "metadata": {
        "id": "VVX6h8QESLrx"
      },
      "outputs": [],
      "source": [
        "sftp = \"\\\"C:\\Program Files (x86)\\WinSCP\\WinSCP.com\\\"\"\n",
        "\n",
        "script = rootdir + \"\\\\local2remote.txt\"\n",
        "param = zipname + \".\" + format\n",
        "\n",
        "comando = sftp + \" /script=\" + script + \" /parameter \" + param \n",
        "check_output(comando, shell=True)\n",
        "\n",
        "print ('Enviado al servidor: ' + comando )\n",
        "\n"
      ]
    },
    {
      "cell_type": "markdown",
      "source": [
        "Se termina la ejecución"
      ],
      "metadata": {
        "id": "bCUzIo6PWsBh"
      }
    },
    {
      "cell_type": "code",
      "source": [
        "x = input ('done!')"
      ],
      "metadata": {
        "id": "f141A9IeWvbO"
      },
      "execution_count": null,
      "outputs": []
    }
  ]
}