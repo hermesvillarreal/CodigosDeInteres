{
  "nbformat": 4,
  "nbformat_minor": 0,
  "metadata": {
    "colab": {
      "provenance": [],
      "authorship_tag": "ABX9TyPmYe8OebzU63gRg9oF6wps",
      "include_colab_link": true
    },
    "kernelspec": {
      "name": "python3",
      "display_name": "Python 3"
    },
    "language_info": {
      "name": "python"
    }
  },
  "cells": [
    {
      "cell_type": "markdown",
      "metadata": {
        "id": "view-in-github",
        "colab_type": "text"
      },
      "source": [
        "<a href=\"https://colab.research.google.com/github/hermesvillarreal/CodigosDeInteres/blob/main/ConverCsv2Json.ipynb\" target=\"_parent\"><img src=\"https://colab.research.google.com/assets/colab-badge.svg\" alt=\"Open In Colab\"/></a>"
      ]
    },
    {
      "cell_type": "markdown",
      "source": [
        "# Convertir el contenido de un archivo csv a json"
      ],
      "metadata": {
        "id": "e4qzkUPGo-UM"
      }
    },
    {
      "cell_type": "markdown",
      "source": [
        "importar las librerias"
      ],
      "metadata": {
        "id": "D7ZYKwmApGyS"
      }
    },
    {
      "cell_type": "code",
      "source": [
        "import csv\n",
        "import json\n",
        "import os"
      ],
      "metadata": {
        "id": "9mlPBeObpKFJ"
      },
      "execution_count": 3,
      "outputs": []
    },
    {
      "cell_type": "markdown",
      "source": [
        "definir funsion"
      ],
      "metadata": {
        "id": "rDtnLHDNpLaK"
      }
    },
    {
      "cell_type": "code",
      "source": [
        "def make_json(csvFilePath, jsonFilePath):\n",
        "  # define in diccionario vacio\n",
        "  data = {}\n",
        "\n",
        "  # abre el csv para leer su contenido y almacenarlo en el diccionario\n",
        "  with open(csvFilePath, encoding='utf-8') as csvf:\n",
        "    csvReader = csv.DictReader(csvf, delimiter='|', quotechar='\"', quoting=csv.QUOTE_MINIMAL)\n",
        "    for rows in csvReader:\n",
        "      # print(rows)\n",
        "      key = rows['ACG_EFF_KEY']\n",
        "      data[key] = rows\n",
        "  # print(data)\n",
        "  # abre el archivo json para escritura \n",
        "  with open(jsonFilePath, 'w', encoding='utf-8') as jsonf:\n",
        "    jsonf.write(json.dumps(data, indent=4))\n",
        "    "
      ],
      "metadata": {
        "id": "JRnyAe0wpPKz"
      },
      "execution_count": 16,
      "outputs": []
    },
    {
      "cell_type": "markdown",
      "source": [
        "define los nombre de los archivos csv y json\n",
        "estarán depositados en el raiz donde este archivo ipynb se encuentre"
      ],
      "metadata": {
        "id": "ZXIOc0E1qk2N"
      }
    },
    {
      "cell_type": "code",
      "source": [
        "os.getcwd()"
      ],
      "metadata": {
        "colab": {
          "base_uri": "https://localhost:8080/"
        },
        "id": "HNnPsY5JsANd",
        "outputId": "cf72ab16-e6ce-4529-c78d-34c8fb630957"
      },
      "execution_count": 4,
      "outputs": [
        {
          "output_type": "execute_result",
          "data": {
            "text/plain": [
              "'C:\\\\Apps\\\\Jupiter'"
            ]
          },
          "metadata": {},
          "execution_count": 4
        }
      ]
    },
    {
      "cell_type": "code",
      "source": [
        "csvFilePath = 'C:\\\\Apps\\\\Jupiter\\\\MULTIPAIS_BaseFiles\\\\MLP_AccountingEffectDim_20201118.csv'\n",
        "jsonFilePath = 'C:\\\\Apps\\\\Jupiter\\\\MULTIPAIS_BaseFiles\\\\MLP_AccountingEffectDim_20201118.json'"
      ],
      "metadata": {
        "id": "QZwZhO0-q194"
      },
      "execution_count": 8,
      "outputs": []
    },
    {
      "cell_type": "markdown",
      "source": [
        "ejecuta la funsión"
      ],
      "metadata": {
        "id": "ba6pRq-cq6FD"
      }
    },
    {
      "cell_type": "code",
      "execution_count": 17,
      "metadata": {
        "id": "dRquYRcoo57N"
      },
      "outputs": [],
      "source": [
        "make_json(csvFilePath, jsonFilePath)"
      ]
    }
  ]
}