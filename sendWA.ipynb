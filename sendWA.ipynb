{
  "nbformat": 4,
  "nbformat_minor": 0,
  "metadata": {
    "colab": {
      "provenance": [],
      "collapsed_sections": [],
      "authorship_tag": "ABX9TyMyGTp2J0KhcdHYxX92UzZ5",
      "include_colab_link": true
    },
    "kernelspec": {
      "name": "python3",
      "display_name": "Python 3"
    },
    "language_info": {
      "name": "python"
    }
  },
  "cells": [
    {
      "cell_type": "markdown",
      "metadata": {
        "id": "view-in-github",
        "colab_type": "text"
      },
      "source": [
        "<a href=\"https://colab.research.google.com/github/hermesvillarreal/CodigosDeInteres/blob/main/sendWA.ipynb\" target=\"_parent\"><img src=\"https://colab.research.google.com/assets/colab-badge.svg\" alt=\"Open In Colab\"/></a>"
      ]
    },
    {
      "cell_type": "markdown",
      "source": [
        "para usarlo recuerda haberte logueado previamente en whastapp web"
      ],
      "metadata": {
        "id": "oeFOfdsKfpoN"
      }
    },
    {
      "cell_type": "code",
      "execution_count": 6,
      "metadata": {
        "id": "GzrsqIbwecwK"
      },
      "outputs": [],
      "source": [
        "# !pip install pywhatkit"
      ]
    },
    {
      "cell_type": "markdown",
      "source": [
        "importar la libreria pywhatkit"
      ],
      "metadata": {
        "id": "LeQTZXy4nFFi"
      }
    },
    {
      "cell_type": "code",
      "source": [
        "import pywhatkit"
      ],
      "metadata": {
        "id": "cBhSuGCgnA5r"
      },
      "execution_count": 7,
      "outputs": []
    },
    {
      "cell_type": "markdown",
      "source": [
        "llenado de parametros requeridos\n",
        "*   phone_no: numero telefonico destino (incluye codigo de pais) \n",
        "*   message: mensage de texto"
      ],
      "metadata": {
        "id": "AoN79ksQnPdA"
      }
    },
    {
      "cell_type": "code",
      "source": [
        "phone_no = input('Entre el telefono destino: ')\n",
        "message = input('Entre el mensaje: ')"
      ],
      "metadata": {
        "colab": {
          "base_uri": "https://localhost:8080/"
        },
        "id": "jJYuKbEKnDM_",
        "outputId": "f20377c7-ef9d-4640-9952-45a06f18a49c"
      },
      "execution_count": 8,
      "outputs": [
        {
          "name": "stdout",
          "output_type": "stream",
          "text": [
            "Entre el telefono destino: +50762022900\n",
            "Entre el mensaje: Te amo con locura (l)\n"
          ]
        }
      ]
    },
    {
      "cell_type": "markdown",
      "source": [
        "envio del mensaje"
      ],
      "metadata": {
        "id": "KUaDcCR6oC3s"
      }
    },
    {
      "cell_type": "code",
      "source": [
        "pywhatkit.sendwhatmsg_instantly(phone_no, message, wait_time = 15, tab_close = True, close_time = 3)"
      ],
      "metadata": {
        "id": "eg5MGGrwf1s6"
      },
      "execution_count": 9,
      "outputs": []
    }
  ]
}