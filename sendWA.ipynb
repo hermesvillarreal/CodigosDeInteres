{
  "nbformat": 4,
  "nbformat_minor": 0,
  "metadata": {
    "colab": {
      "provenance": [],
      "authorship_tag": "ABX9TyNaYKqhT+iAfxvb3DpuxAVk",
      "include_colab_link": true
    },
    "kernelspec": {
      "name": "python3",
      "display_name": "Python 3"
    },
    "language_info": {
      "name": "python"
    }
  },
  "cells": [
    {
      "cell_type": "markdown",
      "metadata": {
        "id": "view-in-github",
        "colab_type": "text"
      },
      "source": [
        "<a href=\"https://colab.research.google.com/github/hermesvillarreal/CodigosDeInteres/blob/main/sendWA.ipynb\" target=\"_parent\"><img src=\"https://colab.research.google.com/assets/colab-badge.svg\" alt=\"Open In Colab\"/></a>"
      ]
    },
    {
      "cell_type": "markdown",
      "source": [
        "para usarlo recuerda haberte logueado previamente en whastapp web"
      ],
      "metadata": {
        "id": "oeFOfdsKfpoN"
      }
    },
    {
      "cell_type": "code",
      "execution_count": 5,
      "metadata": {
        "id": "GzrsqIbwecwK",
        "colab": {
          "base_uri": "https://localhost:8080/"
        },
        "outputId": "2b1831a9-73a7-43e4-a182-db095eddc960"
      },
      "outputs": [
        {
          "output_type": "stream",
          "name": "stdout",
          "text": [
            "Requirement already satisfied: pywhatkit in /usr/local/lib/python3.10/dist-packages (5.4)\n",
            "Requirement already satisfied: Pillow in /usr/local/lib/python3.10/dist-packages (from pywhatkit) (9.4.0)\n",
            "Requirement already satisfied: pyautogui in /usr/local/lib/python3.10/dist-packages (from pywhatkit) (0.9.54)\n",
            "Requirement already satisfied: requests in /usr/local/lib/python3.10/dist-packages (from pywhatkit) (2.31.0)\n",
            "Requirement already satisfied: wikipedia in /usr/local/lib/python3.10/dist-packages (from pywhatkit) (1.4.0)\n",
            "Requirement already satisfied: Flask in /usr/local/lib/python3.10/dist-packages (from pywhatkit) (2.2.5)\n",
            "Requirement already satisfied: Werkzeug>=2.2.2 in /usr/local/lib/python3.10/dist-packages (from Flask->pywhatkit) (3.0.0)\n",
            "Requirement already satisfied: Jinja2>=3.0 in /usr/local/lib/python3.10/dist-packages (from Flask->pywhatkit) (3.1.2)\n",
            "Requirement already satisfied: itsdangerous>=2.0 in /usr/local/lib/python3.10/dist-packages (from Flask->pywhatkit) (2.1.2)\n",
            "Requirement already satisfied: click>=8.0 in /usr/local/lib/python3.10/dist-packages (from Flask->pywhatkit) (8.1.7)\n",
            "Requirement already satisfied: pymsgbox in /usr/local/lib/python3.10/dist-packages (from pyautogui->pywhatkit) (1.0.9)\n",
            "Requirement already satisfied: pytweening>=1.0.4 in /usr/local/lib/python3.10/dist-packages (from pyautogui->pywhatkit) (1.0.7)\n",
            "Requirement already satisfied: pyscreeze>=0.1.21 in /usr/local/lib/python3.10/dist-packages (from pyautogui->pywhatkit) (0.1.29)\n",
            "Requirement already satisfied: pygetwindow>=0.0.5 in /usr/local/lib/python3.10/dist-packages (from pyautogui->pywhatkit) (0.0.9)\n",
            "Requirement already satisfied: mouseinfo in /usr/local/lib/python3.10/dist-packages (from pyautogui->pywhatkit) (0.1.3)\n",
            "Requirement already satisfied: python3-Xlib in /usr/local/lib/python3.10/dist-packages (from pyautogui->pywhatkit) (0.15)\n",
            "Requirement already satisfied: charset-normalizer<4,>=2 in /usr/local/lib/python3.10/dist-packages (from requests->pywhatkit) (3.3.0)\n",
            "Requirement already satisfied: idna<4,>=2.5 in /usr/local/lib/python3.10/dist-packages (from requests->pywhatkit) (3.4)\n",
            "Requirement already satisfied: urllib3<3,>=1.21.1 in /usr/local/lib/python3.10/dist-packages (from requests->pywhatkit) (2.0.6)\n",
            "Requirement already satisfied: certifi>=2017.4.17 in /usr/local/lib/python3.10/dist-packages (from requests->pywhatkit) (2023.7.22)\n",
            "Requirement already satisfied: beautifulsoup4 in /usr/local/lib/python3.10/dist-packages (from wikipedia->pywhatkit) (4.11.2)\n",
            "Requirement already satisfied: MarkupSafe>=2.0 in /usr/local/lib/python3.10/dist-packages (from Jinja2>=3.0->Flask->pywhatkit) (2.1.3)\n",
            "Requirement already satisfied: pyrect in /usr/local/lib/python3.10/dist-packages (from pygetwindow>=0.0.5->pyautogui->pywhatkit) (0.2.0)\n",
            "Requirement already satisfied: pyscreenshot in /usr/local/lib/python3.10/dist-packages (from pyscreeze>=0.1.21->pyautogui->pywhatkit) (3.1)\n",
            "Requirement already satisfied: soupsieve>1.2 in /usr/local/lib/python3.10/dist-packages (from beautifulsoup4->wikipedia->pywhatkit) (2.5)\n",
            "Requirement already satisfied: pyperclip in /usr/local/lib/python3.10/dist-packages (from mouseinfo->pyautogui->pywhatkit) (1.8.2)\n",
            "Requirement already satisfied: EasyProcess in /usr/local/lib/python3.10/dist-packages (from pyscreenshot->pyscreeze>=0.1.21->pyautogui->pywhatkit) (1.1)\n",
            "Requirement already satisfied: entrypoint2 in /usr/local/lib/python3.10/dist-packages (from pyscreenshot->pyscreeze>=0.1.21->pyautogui->pywhatkit) (1.1)\n",
            "Requirement already satisfied: mss in /usr/local/lib/python3.10/dist-packages (from pyscreenshot->pyscreeze>=0.1.21->pyautogui->pywhatkit) (9.0.1)\n",
            "Requirement already satisfied: jeepney in /usr/lib/python3/dist-packages (from pyscreenshot->pyscreeze>=0.1.21->pyautogui->pywhatkit) (0.7.1)\n"
          ]
        }
      ],
      "source": [
        "!pip install pywhatkit"
      ]
    },
    {
      "cell_type": "markdown",
      "source": [
        "importar la libreria pywhatkit"
      ],
      "metadata": {
        "id": "LeQTZXy4nFFi"
      }
    },
    {
      "cell_type": "code",
      "source": [
        "import pywhatkit"
      ],
      "metadata": {
        "id": "cBhSuGCgnA5r",
        "colab": {
          "base_uri": "https://localhost:8080/",
          "height": 321
        },
        "outputId": "ddde3e43-71b9-48ff-9ff3-dede5bc9b83c"
      },
      "execution_count": 6,
      "outputs": [
        {
          "output_type": "error",
          "ename": "KeyError",
          "evalue": "ignored",
          "traceback": [
            "\u001b[0;31m---------------------------------------------------------------------------\u001b[0m",
            "\u001b[0;31mKeyError\u001b[0m                                  Traceback (most recent call last)",
            "\u001b[0;32m<ipython-input-6-54f6f476dc6e>\u001b[0m in \u001b[0;36m<cell line: 1>\u001b[0;34m()\u001b[0m\n\u001b[0;32m----> 1\u001b[0;31m \u001b[0;32mimport\u001b[0m \u001b[0mpywhatkit\u001b[0m\u001b[0;34m\u001b[0m\u001b[0;34m\u001b[0m\u001b[0m\n\u001b[0m",
            "\u001b[0;32m/usr/local/lib/python3.10/dist-packages/pywhatkit/__init__.py\u001b[0m in \u001b[0;36m<module>\u001b[0;34m\u001b[0m\n\u001b[1;32m     14\u001b[0m \u001b[0;32mfrom\u001b[0m \u001b[0mpywhatkit\u001b[0m\u001b[0;34m.\u001b[0m\u001b[0mmisc\u001b[0m \u001b[0;32mimport\u001b[0m \u001b[0minfo\u001b[0m\u001b[0;34m,\u001b[0m \u001b[0mplayonyt\u001b[0m\u001b[0;34m,\u001b[0m \u001b[0msearch\u001b[0m\u001b[0;34m,\u001b[0m \u001b[0mshow_history\u001b[0m\u001b[0;34m,\u001b[0m \u001b[0mweb_screenshot\u001b[0m\u001b[0;34m\u001b[0m\u001b[0;34m\u001b[0m\u001b[0m\n\u001b[1;32m     15\u001b[0m \u001b[0;32mfrom\u001b[0m \u001b[0mpywhatkit\u001b[0m\u001b[0;34m.\u001b[0m\u001b[0msc\u001b[0m \u001b[0;32mimport\u001b[0m \u001b[0mcancel_shutdown\u001b[0m\u001b[0;34m,\u001b[0m \u001b[0mshutdown\u001b[0m\u001b[0;34m\u001b[0m\u001b[0;34m\u001b[0m\u001b[0m\n\u001b[0;32m---> 16\u001b[0;31m from pywhatkit.whats import (\n\u001b[0m\u001b[1;32m     17\u001b[0m     \u001b[0mopen_web\u001b[0m\u001b[0;34m,\u001b[0m\u001b[0;34m\u001b[0m\u001b[0;34m\u001b[0m\u001b[0m\n\u001b[1;32m     18\u001b[0m     \u001b[0msendwhatmsg\u001b[0m\u001b[0;34m,\u001b[0m\u001b[0;34m\u001b[0m\u001b[0;34m\u001b[0m\u001b[0m\n",
            "\u001b[0;32m/usr/local/lib/python3.10/dist-packages/pywhatkit/whats.py\u001b[0m in \u001b[0;36m<module>\u001b[0;34m\u001b[0m\n\u001b[1;32m      5\u001b[0m \u001b[0;32mfrom\u001b[0m \u001b[0murllib\u001b[0m\u001b[0;34m.\u001b[0m\u001b[0mparse\u001b[0m \u001b[0;32mimport\u001b[0m \u001b[0mquote\u001b[0m\u001b[0;34m\u001b[0m\u001b[0;34m\u001b[0m\u001b[0m\n\u001b[1;32m      6\u001b[0m \u001b[0;34m\u001b[0m\u001b[0m\n\u001b[0;32m----> 7\u001b[0;31m \u001b[0;32mimport\u001b[0m \u001b[0mpyautogui\u001b[0m \u001b[0;32mas\u001b[0m \u001b[0mpg\u001b[0m\u001b[0;34m\u001b[0m\u001b[0;34m\u001b[0m\u001b[0m\n\u001b[0m\u001b[1;32m      8\u001b[0m \u001b[0;34m\u001b[0m\u001b[0m\n\u001b[1;32m      9\u001b[0m \u001b[0;32mfrom\u001b[0m \u001b[0mpywhatkit\u001b[0m\u001b[0;34m.\u001b[0m\u001b[0mcore\u001b[0m \u001b[0;32mimport\u001b[0m \u001b[0mcore\u001b[0m\u001b[0;34m,\u001b[0m \u001b[0mexceptions\u001b[0m\u001b[0;34m,\u001b[0m \u001b[0mlog\u001b[0m\u001b[0;34m\u001b[0m\u001b[0;34m\u001b[0m\u001b[0m\n",
            "\u001b[0;32m/usr/local/lib/python3.10/dist-packages/pyautogui/__init__.py\u001b[0m in \u001b[0;36m<module>\u001b[0;34m\u001b[0m\n\u001b[1;32m    244\u001b[0m \u001b[0;34m\u001b[0m\u001b[0m\n\u001b[1;32m    245\u001b[0m \u001b[0;32mtry\u001b[0m\u001b[0;34m:\u001b[0m\u001b[0;34m\u001b[0m\u001b[0;34m\u001b[0m\u001b[0m\n\u001b[0;32m--> 246\u001b[0;31m     \u001b[0;32mimport\u001b[0m \u001b[0mmouseinfo\u001b[0m\u001b[0;34m\u001b[0m\u001b[0;34m\u001b[0m\u001b[0m\n\u001b[0m\u001b[1;32m    247\u001b[0m \u001b[0;34m\u001b[0m\u001b[0m\n\u001b[1;32m    248\u001b[0m     \u001b[0;32mdef\u001b[0m \u001b[0mmouseInfo\u001b[0m\u001b[0;34m(\u001b[0m\u001b[0;34m)\u001b[0m\u001b[0;34m:\u001b[0m\u001b[0;34m\u001b[0m\u001b[0;34m\u001b[0m\u001b[0m\n",
            "\u001b[0;32m/usr/local/lib/python3.10/dist-packages/mouseinfo/__init__.py\u001b[0m in \u001b[0;36m<module>\u001b[0;34m\u001b[0m\n\u001b[1;32m    221\u001b[0m             \u001b[0;32mraise\u001b[0m\u001b[0;34m\u001b[0m\u001b[0;34m\u001b[0m\u001b[0m\n\u001b[1;32m    222\u001b[0m \u001b[0;34m\u001b[0m\u001b[0m\n\u001b[0;32m--> 223\u001b[0;31m     \u001b[0m_display\u001b[0m \u001b[0;34m=\u001b[0m \u001b[0mDisplay\u001b[0m\u001b[0;34m(\u001b[0m\u001b[0mos\u001b[0m\u001b[0;34m.\u001b[0m\u001b[0menviron\u001b[0m\u001b[0;34m[\u001b[0m\u001b[0;34m'DISPLAY'\u001b[0m\u001b[0;34m]\u001b[0m\u001b[0;34m)\u001b[0m\u001b[0;34m\u001b[0m\u001b[0;34m\u001b[0m\u001b[0m\n\u001b[0m\u001b[1;32m    224\u001b[0m \u001b[0;34m\u001b[0m\u001b[0m\n\u001b[1;32m    225\u001b[0m     \u001b[0;32mdef\u001b[0m \u001b[0m_linuxPosition\u001b[0m\u001b[0;34m(\u001b[0m\u001b[0;34m)\u001b[0m\u001b[0;34m:\u001b[0m\u001b[0;34m\u001b[0m\u001b[0;34m\u001b[0m\u001b[0m\n",
            "\u001b[0;32m/usr/lib/python3.10/os.py\u001b[0m in \u001b[0;36m__getitem__\u001b[0;34m(self, key)\u001b[0m\n\u001b[1;32m    678\u001b[0m         \u001b[0;32mexcept\u001b[0m \u001b[0mKeyError\u001b[0m\u001b[0;34m:\u001b[0m\u001b[0;34m\u001b[0m\u001b[0;34m\u001b[0m\u001b[0m\n\u001b[1;32m    679\u001b[0m             \u001b[0;31m# raise KeyError with the original key value\u001b[0m\u001b[0;34m\u001b[0m\u001b[0;34m\u001b[0m\u001b[0m\n\u001b[0;32m--> 680\u001b[0;31m             \u001b[0;32mraise\u001b[0m \u001b[0mKeyError\u001b[0m\u001b[0;34m(\u001b[0m\u001b[0mkey\u001b[0m\u001b[0;34m)\u001b[0m \u001b[0;32mfrom\u001b[0m \u001b[0;32mNone\u001b[0m\u001b[0;34m\u001b[0m\u001b[0;34m\u001b[0m\u001b[0m\n\u001b[0m\u001b[1;32m    681\u001b[0m         \u001b[0;32mreturn\u001b[0m \u001b[0mself\u001b[0m\u001b[0;34m.\u001b[0m\u001b[0mdecodevalue\u001b[0m\u001b[0;34m(\u001b[0m\u001b[0mvalue\u001b[0m\u001b[0;34m)\u001b[0m\u001b[0;34m\u001b[0m\u001b[0;34m\u001b[0m\u001b[0m\n\u001b[1;32m    682\u001b[0m \u001b[0;34m\u001b[0m\u001b[0m\n",
            "\u001b[0;31mKeyError\u001b[0m: 'DISPLAY'"
          ]
        }
      ]
    },
    {
      "cell_type": "markdown",
      "source": [
        "llenado de parametros requeridos\n",
        "*   phone_no: numero telefonico destino (incluye codigo de pais)\n",
        "*   message: mensage de texto"
      ],
      "metadata": {
        "id": "AoN79ksQnPdA"
      }
    },
    {
      "cell_type": "code",
      "source": [
        "phone_no = input('Entre el telefono destino: ')\n",
        "message = input('Entre el mensaje: ')"
      ],
      "metadata": {
        "colab": {
          "base_uri": "https://localhost:8080/"
        },
        "id": "jJYuKbEKnDM_",
        "outputId": "f20377c7-ef9d-4640-9952-45a06f18a49c"
      },
      "execution_count": null,
      "outputs": [
        {
          "name": "stdout",
          "output_type": "stream",
          "text": [
            "Entre el telefono destino: +50762022900\n",
            "Entre el mensaje: Te amo con locura (l)\n"
          ]
        }
      ]
    },
    {
      "cell_type": "markdown",
      "source": [
        "envio del mensaje"
      ],
      "metadata": {
        "id": "KUaDcCR6oC3s"
      }
    },
    {
      "cell_type": "code",
      "source": [
        "pywhatkit.sendwhatmsg_instantly(phone_no, message, wait_time = 15, tab_close = True, close_time = 3)"
      ],
      "metadata": {
        "id": "eg5MGGrwf1s6"
      },
      "execution_count": null,
      "outputs": []
    },
    {
      "cell_type": "code",
      "source": [
        "pywhatkit.sendwhatmsg(phone_no, message, 9, 35)\n",
        "\n",
        "print(\"Message Sent!\") #Prints success message in console"
      ],
      "metadata": {
        "id": "V2qelCvSMmBq"
      },
      "execution_count": null,
      "outputs": []
    }
  ]
}