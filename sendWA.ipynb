{
  "cells": [
    {
      "cell_type": "markdown",
      "metadata": {
        "colab_type": "text",
        "id": "view-in-github"
      },
      "source": [
        "<a href=\"https://colab.research.google.com/github/hermesvillarreal/CodigosDeInteres/blob/main/sendWA.ipynb\" target=\"_parent\"><img src=\"https://colab.research.google.com/assets/colab-badge.svg\" alt=\"Open In Colab\"/></a>"
      ]
    },
    {
      "cell_type": "markdown",
      "metadata": {
        "id": "oeFOfdsKfpoN"
      },
      "source": [
        "para usarlo recuerda haberte logueado previamente en whastapp web"
      ]
    },
    {
      "cell_type": "code",
      "execution_count": 6,
      "metadata": {
        "id": "GzrsqIbwecwK"
      },
      "outputs": [],
      "source": [
        "# !pip install pywhatkit"
      ]
    },
    {
      "cell_type": "markdown",
      "metadata": {
        "id": "LeQTZXy4nFFi"
      },
      "source": [
        "importar la libreria pywhatkit"
      ]
    },
    {
      "cell_type": "code",
      "execution_count": 3,
      "metadata": {
        "id": "cBhSuGCgnA5r"
      },
      "outputs": [],
      "source": [
        "import pywhatkit"
      ]
    },
    {
      "cell_type": "markdown",
      "metadata": {
        "id": "AoN79ksQnPdA"
      },
      "source": [
        "llenado de parametros requeridos\n",
        "*   phone_no: numero telefonico destino (incluye codigo de pais) \n",
        "*   message: mensage de texto"
      ]
    },
    {
      "cell_type": "code",
      "execution_count": 5,
      "metadata": {
        "colab": {
          "base_uri": "https://localhost:8080/"
        },
        "id": "jJYuKbEKnDM_",
        "outputId": "f20377c7-ef9d-4640-9952-45a06f18a49c"
      },
      "outputs": [],
      "source": [
        "phone_no = input('Entre el telefono destino: ')\n",
        "message = input('Entre el mensaje: ')"
      ]
    },
    {
      "cell_type": "markdown",
      "metadata": {
        "id": "KUaDcCR6oC3s"
      },
      "source": [
        "envio del mensaje"
      ]
    },
    {
      "cell_type": "code",
      "execution_count": 8,
      "metadata": {
        "id": "eg5MGGrwf1s6"
      },
      "outputs": [],
      "source": [
        "pywhatkit.sendwhatmsg_instantly(phone_no, message, wait_time = 15, tab_close = True, close_time = 3)"
      ]
    }
  ],
  "metadata": {
    "colab": {
      "authorship_tag": "ABX9TyMyGTp2J0KhcdHYxX92UzZ5",
      "collapsed_sections": [],
      "include_colab_link": true,
      "provenance": []
    },
    "kernelspec": {
      "display_name": "Python 3",
      "name": "python3"
    },
    "language_info": {
      "codemirror_mode": {
        "name": "ipython",
        "version": 3
      },
      "file_extension": ".py",
      "mimetype": "text/x-python",
      "name": "python",
      "nbconvert_exporter": "python",
      "pygments_lexer": "ipython3",
      "version": "3.11.5"
    }
  },
  "nbformat": 4,
  "nbformat_minor": 0
}
