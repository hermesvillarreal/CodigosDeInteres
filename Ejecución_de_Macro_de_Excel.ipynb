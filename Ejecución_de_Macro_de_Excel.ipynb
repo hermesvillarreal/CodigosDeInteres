{
  "nbformat": 4,
  "nbformat_minor": 0,
  "metadata": {
    "colab": {
      "provenance": [],
      "authorship_tag": "ABX9TyOl4z9L0jZbbCQ+NVlBuP0x",
      "include_colab_link": true
    },
    "kernelspec": {
      "name": "python3",
      "display_name": "Python 3"
    },
    "language_info": {
      "name": "python"
    }
  },
  "cells": [
    {
      "cell_type": "markdown",
      "metadata": {
        "id": "view-in-github",
        "colab_type": "text"
      },
      "source": [
        "<a href=\"https://colab.research.google.com/github/hermesvillarreal/CodigosDeInteres/blob/main/Ejecuci%C3%B3n_de_Macro_de_Excel.ipynb\" target=\"_parent\"><img src=\"https://colab.research.google.com/assets/colab-badge.svg\" alt=\"Open In Colab\"/></a>"
      ]
    },
    {
      "cell_type": "markdown",
      "source": [
        "\n",
        "\n",
        "```\n",
        "Contexto:\n",
        "desde mi maquina windows, necesito abrir un archivo xlsm con macro, refrescar y ejecutar la macro.\n",
        "Al momento de crear este script esta librería solo funciona en windows \n",
        "```\n",
        "```\n",
        "Links:\n",
        "https://pbpython.com/windows-com.html\n",
        "```"
      ],
      "metadata": {
        "id": "vLVec8Qn_Tju"
      }
    },
    {
      "cell_type": "markdown",
      "source": [
        "importar la librería requerida"
      ],
      "metadata": {
        "id": "Dj0mHzjlCZhn"
      }
    },
    {
      "cell_type": "code",
      "execution_count": 11,
      "metadata": {
        "id": "0G2IJ14u-0v5"
      },
      "outputs": [],
      "source": [
        "### !pip install pywin32\n",
        "\n",
        "import win32com.client\n",
        "import os"
      ]
    },
    {
      "cell_type": "markdown",
      "source": [
        "definición de variables:\n",
        "\n",
        "* mrapp = ruta y nombre del archivo xlsm\n",
        "* macro = módulo y nombre de la macro a ejecutar"
      ],
      "metadata": {
        "id": "EtrvfGkh_7Wy"
      }
    },
    {
      "cell_type": "code",
      "source": [
        "mrapp = os.getcwd() + \"/ExcelMacro/ExcelMacro.xlsm\"\n",
        "macro = \"Módulo1.Macro1\""
      ],
      "metadata": {
        "id": "E3jB0Unj-23W"
      },
      "execution_count": 12,
      "outputs": []
    },
    {
      "cell_type": "markdown",
      "source": [
        "declaración del objeto win32com"
      ],
      "metadata": {
        "id": "9ra0UmGJATOB"
      }
    },
    {
      "cell_type": "code",
      "source": [
        "xlapp = win32com.client.DispatchEx(\"Excel.Application\")\n"
      ],
      "metadata": {
        "id": "Taug6yO_-8Pj"
      },
      "execution_count": 13,
      "outputs": []
    },
    {
      "cell_type": "markdown",
      "source": [
        "apertura del excel y refrescamiento de las conexiones del excel"
      ],
      "metadata": {
        "id": "bx24d4VeAyib"
      }
    },
    {
      "cell_type": "code",
      "source": [
        "wb = xlapp.Workbooks.Open(mrapp)\n",
        "wb.RefreshAll()\n",
        "xlapp.CalculateUntilAsyncQueriesDone()"
      ],
      "metadata": {
        "id": "cAgDiLIGAy1M"
      },
      "execution_count": 14,
      "outputs": []
    },
    {
      "cell_type": "markdown",
      "source": [
        "Ejecución del macro en el excel"
      ],
      "metadata": {
        "id": "oAh7S752BZjj"
      }
    },
    {
      "cell_type": "code",
      "source": [
        "xlapp.Application.Run(\"'\" + mrapp + \"'\" + \"!\" + macro)"
      ],
      "metadata": {
        "id": "HXDVK53FBaJl"
      },
      "execution_count": 15,
      "outputs": []
    },
    {
      "cell_type": "markdown",
      "source": [
        "Salvado y cierre del excel"
      ],
      "metadata": {
        "id": "KtcxZh1DBlCs"
      }
    },
    {
      "cell_type": "code",
      "source": [
        "wb.Save()\n",
        "xlapp.Quit()"
      ],
      "metadata": {
        "id": "Tn1kTptH_D1_"
      },
      "execution_count": 16,
      "outputs": []
    }
  ]
}